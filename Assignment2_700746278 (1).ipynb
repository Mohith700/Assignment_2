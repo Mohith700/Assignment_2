{
  "nbformat": 4,
  "nbformat_minor": 0,
  "metadata": {
    "colab": {
      "provenance": []
    },
    "kernelspec": {
      "name": "python3",
      "display_name": "Python 3"
    },
    "language_info": {
      "name": "python"
    }
  },
  "cells": [
    {
      "cell_type": "code",
      "execution_count": null,
      "metadata": {
        "colab": {
          "base_uri": "https://localhost:8080/"
        },
        "id": "l5ipxQ5rSiRW",
        "outputId": "e09a9cd4-d401-409c-b2da-af62c7df3390"
      },
      "outputs": [
        {
          "output_type": "stream",
          "name": "stdout",
          "text": [
            "Enter your first name: Mohith\n",
            "Enter your last name: Degala\n",
            "Full Name: Mohith Degala\n",
            "Every Other Character in Full Name: Mht eaa\n"
          ]
        }
      ],
      "source": [
        "def fullname(firstname, lastname):\n",
        "    return firstname + \" \" + lastname\n",
        "\n",
        "def string_alternative(full_name):\n",
        "    return full_name[::2]\n",
        "\n",
        "def main():\n",
        "\n",
        "    firstname = input(\"Enter your first name: \")\n",
        "    lastname = input(\"Enter your last name: \")\n",
        "\n",
        "\n",
        "    full_name = fullname(firstname, lastname)\n",
        "\n",
        "\n",
        "    Alt_Char = string_alternative(full_name)\n",
        "\n",
        "\n",
        "    print(\"Full Name:\",full_name)\n",
        "    print(\"Every Other Character in Full Name:\", Alt_Char)\n",
        "\n",
        "\n",
        "main()"
      ]
    },
    {
      "cell_type": "code",
      "source": [
        "def word_count_per_line(file_path):\n",
        "    word_count_dict = {}\n",
        "    lines = []\n",
        "\n",
        "\n",
        "    with open(file_path, 'r') as file:\n",
        "        lines = file.readlines()\n",
        "\n",
        "\n",
        "    for line in lines:\n",
        "        words = line.strip().split()\n",
        "        for word in words:\n",
        "            word_count_dict[word] = word_count_dict.get(word, 0) + 1\n",
        "\n",
        "\n",
        "    print(\"Input:\")\n",
        "    for line in lines:\n",
        "        print(line.strip())\n",
        "\n",
        "    print(\"Word_Count:\")\n",
        "    for word, count in word_count_dict.items():\n",
        "        print(f\"{word}: {count}\")\n",
        "\n",
        "\n",
        "    with open('output.txt', 'w') as output_file:\n",
        "        output_file.write(\"Input:\\n\")\n",
        "        output_file.writelines(lines)\n",
        "        output_file.write(\"\\nWord_Count:\\n\")\n",
        "        for word, count in word_count_dict.items():\n",
        "            output_file.write(f\"{word}: {count}\\n\")\n",
        "\n",
        "\n",
        "word_count_per_line('input.txt')\n"
      ],
      "metadata": {
        "id": "WbGMlckOSomh",
        "outputId": "25777eb2-7be7-4f18-f2e6-ab64f2f01b0e",
        "colab": {
          "base_uri": "https://localhost:8080/"
        }
      },
      "execution_count": null,
      "outputs": [
        {
          "output_type": "stream",
          "name": "stdout",
          "text": [
            "Input:\n",
            "Python course\n",
            "Deep learning course\n",
            "Word_Count:\n",
            "Python: 1\n",
            "course: 2\n",
            "Deep: 1\n",
            "learning: 1\n"
          ]
        }
      ]
    },
    {
      "cell_type": "code",
      "source": [
        "a = int(input(\"Enter number of element in list: \"))\n",
        "inches=[]\n",
        "cm = []\n",
        "for i in range(a):\n",
        "  element = int(input(f\"enter {i} number in list: \"))\n",
        "  inches.append(element)\n",
        "\n",
        "for i in inches:\n",
        "  cm.append(i*2.54)\n",
        "\n",
        "\n",
        "list_comprehension_output = [i*2.54 for i in inches]\n",
        "print(\"Nested Interactive Loop:\",cm)\n",
        "print(\"List Comprehension:\",list_comprehension_output)"
      ],
      "metadata": {
        "colab": {
          "base_uri": "https://localhost:8080/"
        },
        "id": "IbJPpj1SSyvo",
        "outputId": "03a7a295-a686-4a5d-aafb-a2ce7b3faa6a"
      },
      "execution_count": null,
      "outputs": [
        {
          "output_type": "stream",
          "name": "stdout",
          "text": [
            "Enter number of element in list: 4\n",
            "enter 0 number in list: 1\n",
            "enter 1 number in list: 2\n",
            "enter 2 number in list: 3\n",
            "enter 3 number in list: 3\n",
            "Nested Interactive Loop: [2.54, 5.08, 7.62, 7.62]\n",
            "List Comprehension: [2.54, 5.08, 7.62, 7.62]\n"
          ]
        }
      ]
    }
  ]
}